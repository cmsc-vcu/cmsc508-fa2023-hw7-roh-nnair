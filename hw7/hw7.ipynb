{
 "cells": [
  {
   "cell_type": "raw",
   "id": "d1a9821e",
   "metadata": {},
   "source": [
    "---\n",
    "title: Homework 7 - Creating a resume database\n",
    "author: Rohan Nair\n",
    "date: 11/2/2023\n",
    "format:\n",
    "    html:\n",
    "        theme: cosmo\n",
    "        toc: true\n",
    "        embed-resources: true\n",
    "        code-copy: true\n",
    "---"
   ]
  },
  {
   "cell_type": "markdown",
   "id": "ded4b8d2",
   "metadata": {},
   "source": [
    "(include a brief description of what is in this document)\n",
    "\n",
    "(Please clean up any comments that I included.  This is a scaffold document.)\n",
    "\n",
    "GITHUB URL:  <your URL goes here!>\n"
   ]
  },
  {
   "cell_type": "code",
   "execution_count": 1,
   "id": "7cef961c",
   "metadata": {},
   "outputs": [],
   "source": [
    "#| eval: true\n",
    "#| echo: false\n",
    "import os\n",
    "import sys\n",
    "import pandas as pd\n",
    "from tabulate import tabulate\n",
    "from dotenv import load_dotenv\n",
    "from sqlalchemy import create_engine, text\n",
    "from sqlalchemy.exc import OperationalError, ProgrammingError\n",
    "from IPython.display import display, Markdown"
   ]
  },
  {
   "cell_type": "code",
   "execution_count": 2,
   "id": "23cbd078",
   "metadata": {},
   "outputs": [
    {
     "name": "stdout",
     "output_type": "stream",
     "text": [
      "Missing CMSC508_USER in .env file\n",
      "Missing CMSC508_PASSWORD in .env file\n",
      "Missing CMSC508_HOST in .env file\n",
      "Missing HW7_DB_NAME in .env file\n"
     ]
    }
   ],
   "source": [
    "#| eval: true\n",
    "#| echo: false\n",
    "\n",
    "# modify config_map to reflect credentials needed by this program\n",
    "config_map = {\n",
    "    'user':'CMSC508_USER',\n",
    "    'password':'CMSC508_PASSWORD',\n",
    "    'host':'CMSC508_HOST',\n",
    "    'database':'HW7_DB_NAME'\n",
    "}\n",
    "# load and store credentials\n",
    "load_dotenv()\n",
    "config = {}\n",
    "for key in config_map.keys():\n",
    "    config[key] = os.getenv(config_map[key])\n",
    "flag = False\n",
    "for param in config.keys():\n",
    "    if config[param] is None:\n",
    "        flag = True\n",
    "        print(f\"Missing {config_map[param]} in .env file\")\n",
    "#if flag:\n",
    "#    sys.exit(1)"
   ]
  },
  {
   "cell_type": "code",
   "execution_count": 3,
   "id": "4901e9d6",
   "metadata": {},
   "outputs": [],
   "source": [
    "#| eval: true\n",
    "#| echo: false\n",
    "\n",
    "# build a sqlalchemy engine string\n",
    "engine_uri = f\"mysql+pymysql://{config['user']}:{config['password']}@{config['host']}/{config['database']}\"\n",
    "\n",
    "# create a database connection.  THIS IS THE ACTUAL CONNECTION!\n",
    "try:\n",
    "    cnx = create_engine(engine_uri)\n",
    "except ArgumentError as e:\n",
    "    print(f\"create_engine: Argument Error: {e}\")\n",
    "    #sys.exit(1)\n",
    "except NoSuchModuleError as e:\n",
    "    print(f\"create_engine: No Such Module Error: {e}\")\n",
    "    #sys.exit(1)\n",
    "except Exception as e:\n",
    "    print(f\"create_engine: An error occurred: {e}\")\n",
    "    #sys.exit(1)"
   ]
  },
  {
   "cell_type": "code",
   "execution_count": 4,
   "id": "3efe5568",
   "metadata": {},
   "outputs": [
    {
     "name": "stdout",
     "output_type": "stream",
     "text": [
      "Database/SQL Error:\n",
      "(pymysql.err.OperationalError) (2003, \"Can't connect to MySQL server on 'None' ([Errno 8] nodename nor servname provided, or not known)\")\n",
      "(Background on this error at: https://sqlalche.me/e/14/e3q8)\n",
      "\n"
     ]
    }
   ],
   "source": [
    "#| echo: false\n",
    "#| eval: true\n",
    "\n",
    "# Do a quick test of the connection and trap the errors better!\n",
    "try:\n",
    "    databases = pd.read_sql(\"show databases\",cnx)\n",
    "except ImportError as e:\n",
    "    print(f\"Error: {e}\")\n",
    "except OperationalError as e:\n",
    "    print(f\"Database/SQL Error:\\n{str(e)}\\n\")\n",
    "except ProgrammingError as e:\n",
    "    print(f\"Programming Error:\\n{str(e)}\\n\")\n",
    "except Exception as e:\n",
    "    print(f\"An error occurred:\\n{str(e)}\\n\")"
   ]
  },
  {
   "cell_type": "markdown",
   "id": "a42ad7b6",
   "metadata": {},
   "source": [
    "## Overview and description\n",
    "\n",
    "(briefly describe the project and the database)\n",
    "\n",
    "## Crows-foot diagram\n",
    "\n",
    "(add a description of the diagram and what the reader is seeing.)\n",
    "\n",
    "\n",
    "```{mermaid}\n",
    "%%| echo: false\n",
    "erDiagram\n",
    "    CUSTOMER ||--o{ ORDER : places\n",
    "    CUSTOMER }|..|{ DELIVERY-ADDRESS : uses\n",
    "    CUSTOMER{\n",
    "        int id\n",
    "        string first_name\n",
    "        string last_name\n",
    "    }\n",
    "    DELIVERY-ADDRESS {\n",
    "        int id\n",
    "    }\n",
    "```\n",
    "\n",
    "\n",
    "## Examples of data in the database\n",
    "\n",
    "For the people, skills, and roles tables, provide a description of each table and it's contents. Then provide a listing of the entire table.\n",
    "\n",
    "### People table\n",
    "\n",
    "The *people* table contains elements that describe ... \n",
    "\n",
    "Below is a list of data in the *people* table.\n"
   ]
  },
  {
   "cell_type": "code",
   "execution_count": 5,
   "id": "32c85cec",
   "metadata": {},
   "outputs": [
    {
     "name": "stdout",
     "output_type": "stream",
     "text": [
      "An error occurred:\n",
      "\n",
      "(pymysql.err.OperationalError) (2003, \"Can't connect to MySQL server on 'None' ([Errno 8] nodename nor servname provided, or not known)\")\n",
      "(Background on this error at: https://sqlalche.me/e/14/e3q8)\n",
      "\n",
      "Ignoring and moving on.\n"
     ]
    },
    {
     "data": {
      "text/html": [
       "<div>\n",
       "<style scoped>\n",
       "    .dataframe tbody tr th:only-of-type {\n",
       "        vertical-align: middle;\n",
       "    }\n",
       "\n",
       "    .dataframe tbody tr th {\n",
       "        vertical-align: top;\n",
       "    }\n",
       "\n",
       "    .dataframe thead th {\n",
       "        text-align: right;\n",
       "    }\n",
       "</style>\n",
       "<table border=\"1\" class=\"dataframe\">\n",
       "  <thead>\n",
       "    <tr style=\"text-align: right;\">\n",
       "      <th></th>\n",
       "    </tr>\n",
       "  </thead>\n",
       "  <tbody>\n",
       "  </tbody>\n",
       "</table>\n",
       "</div>"
      ],
      "text/plain": [
       "Empty DataFrame\n",
       "Columns: []\n",
       "Index: []"
      ]
     },
     "execution_count": 5,
     "metadata": {},
     "output_type": "execute_result"
    }
   ],
   "source": [
    "#| echo: false\n",
    "#| eval: true\n",
    "sql = f\"\"\"\n",
    "select * from people;\n",
    "\"\"\"\n",
    "## Add code to list roles table here\n",
    "try:\n",
    "    df = pd.read_sql(sql,cnx)\n",
    "    df\n",
    "except Exception as e:\n",
    "    message = str(e)\n",
    "    print(f\"An error occurred:\\n\\n{message}\\n\\nIgnoring and moving on.\")\n",
    "    df = pd.DataFrame()\n",
    "df"
   ]
  },
  {
   "cell_type": "markdown",
   "id": "d463b364",
   "metadata": {},
   "source": [
    "### Skills table\n",
    "\n",
    "The *skills* table contains elements that describe ... \n",
    "\n",
    "Below is a list of data in the *skills* table.\n"
   ]
  },
  {
   "cell_type": "code",
   "execution_count": 6,
   "id": "23f6c29a",
   "metadata": {},
   "outputs": [],
   "source": [
    "#| echo: false\n",
    "#| eval: true\n",
    "\n",
    "## Add code to list roles table here"
   ]
  },
  {
   "cell_type": "markdown",
   "id": "76338028",
   "metadata": {},
   "source": [
    "### Roles table\n",
    "\n",
    "The *roles* table contains elements that describe ... \n",
    "\n",
    "Below is a list of data in the *roles* table.\n"
   ]
  },
  {
   "cell_type": "code",
   "execution_count": 7,
   "id": "06faaf2a",
   "metadata": {},
   "outputs": [],
   "source": [
    "#| echo: false\n",
    "#| eval: true\n",
    "\n",
    "## Add code to list roles table here"
   ]
  },
  {
   "cell_type": "markdown",
   "id": "4931cf8f",
   "metadata": {},
   "source": [
    "## Sample queries\n",
    "\n",
    "Let's explore the database!\n",
    "\n",
    "# List skill names, tags, and descriptions ordered by name\n",
    "\n",
    "(here a sample query)\n"
   ]
  },
  {
   "cell_type": "code",
   "execution_count": 8,
   "id": "ac9791a5",
   "metadata": {},
   "outputs": [],
   "source": [
    "sql = f\"\"\"\n",
    "select * from people\n",
    "\"\"\""
   ]
  },
  {
   "cell_type": "markdown",
   "id": "a2a0b566",
   "metadata": {},
   "source": [
    "(and here is a sample result from the query)\n"
   ]
  },
  {
   "cell_type": "code",
   "execution_count": 9,
   "id": "a4b938a4",
   "metadata": {},
   "outputs": [
    {
     "name": "stdout",
     "output_type": "stream",
     "text": [
      "An error occurred:\n",
      "\n",
      "(pymysql.err.OperationalError) (2003, \"Can't connect to MySQL server on 'None' ([Errno 8] nodename nor servname provided, or not known)\")\n",
      "(Background on this error at: https://sqlalche.me/e/14/e3q8)\n",
      "\n",
      "Ignoring and moving on.\n"
     ]
    },
    {
     "data": {
      "text/html": [
       "<div>\n",
       "<style scoped>\n",
       "    .dataframe tbody tr th:only-of-type {\n",
       "        vertical-align: middle;\n",
       "    }\n",
       "\n",
       "    .dataframe tbody tr th {\n",
       "        vertical-align: top;\n",
       "    }\n",
       "\n",
       "    .dataframe thead th {\n",
       "        text-align: right;\n",
       "    }\n",
       "</style>\n",
       "<table border=\"1\" class=\"dataframe\">\n",
       "  <thead>\n",
       "    <tr style=\"text-align: right;\">\n",
       "      <th></th>\n",
       "    </tr>\n",
       "  </thead>\n",
       "  <tbody>\n",
       "  </tbody>\n",
       "</table>\n",
       "</div>"
      ],
      "text/plain": [
       "Empty DataFrame\n",
       "Columns: []\n",
       "Index: []"
      ]
     },
     "execution_count": 9,
     "metadata": {},
     "output_type": "execute_result"
    }
   ],
   "source": [
    "#| echo: false\n",
    "#| eval: true\n",
    "try:\n",
    "    df = pd.read_sql(sql,cnx)\n",
    "    df\n",
    "except Exception as e:\n",
    "    message = str(e)\n",
    "    print(f\"An error occurred:\\n\\n{message}\\n\\nIgnoring and moving on.\")\n",
    "    df = pd.DataFrame()\n",
    "df"
   ]
  },
  {
   "cell_type": "markdown",
   "id": "9547b37d",
   "metadata": {},
   "source": [
    "### List people names and email addresses ordered by last_name\n",
    "\n",
    "\n",
    "### List skill names of Person 1\n",
    "\n",
    "\n",
    "### List people names with Skill 6\n",
    "\n",
    "\n",
    "### List people with a DEVELOPER role\n",
    "\n",
    "\n",
    "### List names and email addresses of people without skills\n",
    "\n",
    "\n",
    "### List names and tags of unused skills\n",
    "\n",
    "\n",
    "### List people names and skill names with the BOSS role\n",
    "\n",
    "\n",
    "### List ids and names of unused roles\n",
    "\n",
    "\n",
    "## Reflection\n",
    "\n",
    "(Write a paragraph expressing your thoughts, feelings, and insights about your experience with this assignment.  Pause and breath before writing - I'm trying to encourage critical thinking and self-awareness while allowing you to explore the connections between theory and practice. And yes, delete this paragraph.)\n"
   ]
  }
 ],
 "metadata": {
  "kernelspec": {
   "display_name": "Python 3",
   "language": "python",
   "name": "python3"
  },
  "language_info": {
   "codemirror_mode": {
    "name": "ipython",
    "version": 3
   },
   "file_extension": ".py",
   "mimetype": "text/x-python",
   "name": "python",
   "nbconvert_exporter": "python",
   "pygments_lexer": "ipython3",
   "version": "3.11.6"
  }
 },
 "nbformat": 4,
 "nbformat_minor": 5
}
